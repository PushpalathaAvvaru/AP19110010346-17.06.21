{
 "cells": [
  {
   "cell_type": "code",
   "execution_count": 1,
   "id": "2704da0b",
   "metadata": {},
   "outputs": [],
   "source": [
    "#Task:-Generate a 3 digit OTP from 2 different Classes Mail class and Phone class return 6 digit OTP from both Base classes\n",
    "#3-Digit OTP from two different classes(Mail Class & Phone Class)\n",
    "import random\n",
    "class Mail:\n",
    "    def __init__(otp):\n",
    "        otp.v1 = 000\n",
    "        otp.v2 = 999\n",
    "    def m(otp):\n",
    "            print(\"3-Digit OTP:\", random.randint(otp.v1,otp.v2))\n",
    "        \n",
    "class Phone(Mail):\n",
    "    def p(otp):\n",
    "        print(\"3-Digit OTP:\", random.randint(otp.v1,otp.v2))\n",
    "    "
   ]
  },
  {
   "cell_type": "code",
   "execution_count": 2,
   "id": "05103b24",
   "metadata": {},
   "outputs": [
    {
     "name": "stdout",
     "output_type": "stream",
     "text": [
      "3-Digit OTP: 181\n"
     ]
    }
   ],
   "source": [
    "\n",
    "obj_1 = Mail()\n",
    "obj_1.m()"
   ]
  },
  {
   "cell_type": "code",
   "execution_count": null,
   "id": "e7321464",
   "metadata": {},
   "outputs": [],
   "source": []
  }
 ],
 "metadata": {
  "kernelspec": {
   "display_name": "Python 3",
   "language": "python",
   "name": "python3"
  },
  "language_info": {
   "codemirror_mode": {
    "name": "ipython",
    "version": 3
   },
   "file_extension": ".py",
   "mimetype": "text/x-python",
   "name": "python",
   "nbconvert_exporter": "python",
   "pygments_lexer": "ipython3",
   "version": "3.8.8"
  }
 },
 "nbformat": 4,
 "nbformat_minor": 5
}
